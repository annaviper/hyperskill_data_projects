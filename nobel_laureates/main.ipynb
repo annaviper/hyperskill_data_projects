{
 "cells": [
  {
   "cell_type": "code",
   "execution_count": 1,
   "metadata": {},
   "outputs": [],
   "source": [
    "import pandas as pd"
   ]
  },
  {
   "cell_type": "markdown",
   "metadata": {},
   "source": [
    "# Stage 1/6: Load the data\n"
   ]
  },
  {
   "cell_type": "markdown",
   "metadata": {},
   "source": [
    "## 1. Load the dataset from the JSON file;\n"
   ]
  },
  {
   "cell_type": "code",
   "execution_count": 4,
   "metadata": {},
   "outputs": [
    {
     "data": {
      "text/html": [
       "<div>\n",
       "<style scoped>\n",
       "    .dataframe tbody tr th:only-of-type {\n",
       "        vertical-align: middle;\n",
       "    }\n",
       "\n",
       "    .dataframe tbody tr th {\n",
       "        vertical-align: top;\n",
       "    }\n",
       "\n",
       "    .dataframe thead th {\n",
       "        text-align: right;\n",
       "    }\n",
       "</style>\n",
       "<table border=\"1\" class=\"dataframe\">\n",
       "  <thead>\n",
       "    <tr style=\"text-align: right;\">\n",
       "      <th></th>\n",
       "      <th>born_in</th>\n",
       "      <th>category</th>\n",
       "      <th>country</th>\n",
       "      <th>date_of_birth</th>\n",
       "      <th>date_of_death</th>\n",
       "      <th>gender</th>\n",
       "      <th>link</th>\n",
       "      <th>name</th>\n",
       "      <th>place_of_birth</th>\n",
       "      <th>place_of_death</th>\n",
       "      <th>text</th>\n",
       "      <th>year</th>\n",
       "    </tr>\n",
       "  </thead>\n",
       "  <tbody>\n",
       "    <tr>\n",
       "      <th>0</th>\n",
       "      <td></td>\n",
       "      <td>Physiology or Medicine</td>\n",
       "      <td>Argentina</td>\n",
       "      <td>8 October 1927</td>\n",
       "      <td>24 March 2002</td>\n",
       "      <td>male</td>\n",
       "      <td>http://en.wikipedia.org/wiki/C%C3%A9sar_Milstein</td>\n",
       "      <td>César Milstein</td>\n",
       "      <td>Bahía Blanca ,  Argentina</td>\n",
       "      <td>Cambridge , England</td>\n",
       "      <td>César Milstein , Physiology or Medicine, 1984</td>\n",
       "      <td>1984</td>\n",
       "    </tr>\n",
       "    <tr>\n",
       "      <th>1</th>\n",
       "      <td>Bosnia and Herzegovina</td>\n",
       "      <td>Literature</td>\n",
       "      <td></td>\n",
       "      <td>9 October 1892</td>\n",
       "      <td>13 March 1975</td>\n",
       "      <td>male</td>\n",
       "      <td>http://en.wikipedia.org/wiki/Ivo_Andric</td>\n",
       "      <td>Ivo Andric *</td>\n",
       "      <td>Dolac (village near Travnik), Bosnia and Herze...</td>\n",
       "      <td>Belgrade, SR Serbia, SFR Yugoslavia (present-d...</td>\n",
       "      <td>Ivo Andric *,  born in then  Austria–Hungary ,...</td>\n",
       "      <td>1961</td>\n",
       "    </tr>\n",
       "    <tr>\n",
       "      <th>2</th>\n",
       "      <td>Bosnia and Herzegovina</td>\n",
       "      <td>Chemistry</td>\n",
       "      <td></td>\n",
       "      <td>July 23, 1906</td>\n",
       "      <td>1998-01-07</td>\n",
       "      <td>male</td>\n",
       "      <td>http://en.wikipedia.org/wiki/Vladimir_Prelog</td>\n",
       "      <td>Vladimir Prelog *</td>\n",
       "      <td>Sarajevo ,  Bosnia and Herzegovina</td>\n",
       "      <td>Zürich ,  Switzerland</td>\n",
       "      <td>Vladimir Prelog *,  born in then  Austria–Hung...</td>\n",
       "      <td>1975</td>\n",
       "    </tr>\n",
       "    <tr>\n",
       "      <th>3</th>\n",
       "      <td></td>\n",
       "      <td>Peace</td>\n",
       "      <td>Belgium</td>\n",
       "      <td>None</td>\n",
       "      <td>None</td>\n",
       "      <td>None</td>\n",
       "      <td>http://en.wikipedia.org/wiki/Institut_de_Droit...</td>\n",
       "      <td>Institut de Droit International</td>\n",
       "      <td>None</td>\n",
       "      <td>None</td>\n",
       "      <td>Institut de Droit International , Peace, 1904</td>\n",
       "      <td>1904</td>\n",
       "    </tr>\n",
       "    <tr>\n",
       "      <th>4</th>\n",
       "      <td></td>\n",
       "      <td>Peace</td>\n",
       "      <td>Belgium</td>\n",
       "      <td>26 July 1829</td>\n",
       "      <td>6 October 1912</td>\n",
       "      <td>male</td>\n",
       "      <td>http://en.wikipedia.org/wiki/Auguste_Marie_Fra...</td>\n",
       "      <td>Auguste Beernaert</td>\n",
       "      <td>Ostend ,  Belgium</td>\n",
       "      <td>Lucerne ,  Switzerland</td>\n",
       "      <td>Auguste Beernaert , Peace, 1909</td>\n",
       "      <td>1909</td>\n",
       "    </tr>\n",
       "  </tbody>\n",
       "</table>\n",
       "</div>"
      ],
      "text/plain": [
       "                  born_in                category    country   date_of_birth  \\\n",
       "0                          Physiology or Medicine  Argentina  8 October 1927   \n",
       "1  Bosnia and Herzegovina              Literature             9 October 1892   \n",
       "2  Bosnia and Herzegovina               Chemistry              July 23, 1906   \n",
       "3                                           Peace    Belgium            None   \n",
       "4                                           Peace    Belgium    26 July 1829   \n",
       "\n",
       "    date_of_death gender                                               link  \\\n",
       "0   24 March 2002   male   http://en.wikipedia.org/wiki/C%C3%A9sar_Milstein   \n",
       "1   13 March 1975   male            http://en.wikipedia.org/wiki/Ivo_Andric   \n",
       "2      1998-01-07   male       http://en.wikipedia.org/wiki/Vladimir_Prelog   \n",
       "3            None   None  http://en.wikipedia.org/wiki/Institut_de_Droit...   \n",
       "4  6 October 1912   male  http://en.wikipedia.org/wiki/Auguste_Marie_Fra...   \n",
       "\n",
       "                              name  \\\n",
       "0                   César Milstein   \n",
       "1                     Ivo Andric *   \n",
       "2                Vladimir Prelog *   \n",
       "3  Institut de Droit International   \n",
       "4                Auguste Beernaert   \n",
       "\n",
       "                                      place_of_birth  \\\n",
       "0                          Bahía Blanca ,  Argentina   \n",
       "1  Dolac (village near Travnik), Bosnia and Herze...   \n",
       "2                 Sarajevo ,  Bosnia and Herzegovina   \n",
       "3                                               None   \n",
       "4                                  Ostend ,  Belgium   \n",
       "\n",
       "                                      place_of_death  \\\n",
       "0                                Cambridge , England   \n",
       "1  Belgrade, SR Serbia, SFR Yugoslavia (present-d...   \n",
       "2                              Zürich ,  Switzerland   \n",
       "3                                               None   \n",
       "4                             Lucerne ,  Switzerland   \n",
       "\n",
       "                                                text  year  \n",
       "0      César Milstein , Physiology or Medicine, 1984  1984  \n",
       "1  Ivo Andric *,  born in then  Austria–Hungary ,...  1961  \n",
       "2  Vladimir Prelog *,  born in then  Austria–Hung...  1975  \n",
       "3      Institut de Droit International , Peace, 1904  1904  \n",
       "4                    Auguste Beernaert , Peace, 1909  1909  "
      ]
     },
     "execution_count": 4,
     "metadata": {},
     "output_type": "execute_result"
    }
   ],
   "source": [
    "df = pd.read_json('nobel_laureates.json')\n",
    "df.head()"
   ]
  },
  {
   "cell_type": "markdown",
   "metadata": {},
   "source": [
    "## 2. Explore the data and check what the axes are, get the shape of the DataFrame, use .info() to check for the data types and whether there are any missing values;\n"
   ]
  },
  {
   "cell_type": "code",
   "execution_count": 5,
   "metadata": {},
   "outputs": [
    {
     "name": "stdout",
     "output_type": "stream",
     "text": [
      "<class 'pandas.core.frame.DataFrame'>\n",
      "Index: 1052 entries, 0 to 1051\n",
      "Data columns (total 12 columns):\n",
      " #   Column          Non-Null Count  Dtype \n",
      "---  ------          --------------  ----- \n",
      " 0   born_in         1052 non-null   object\n",
      " 1   category        1052 non-null   object\n",
      " 2   country         1052 non-null   object\n",
      " 3   date_of_birth   1044 non-null   object\n",
      " 4   date_of_death   1044 non-null   object\n",
      " 5   gender          1040 non-null   object\n",
      " 6   link            1052 non-null   object\n",
      " 7   name            1052 non-null   object\n",
      " 8   place_of_birth  1011 non-null   object\n",
      " 9   place_of_death  1044 non-null   object\n",
      " 10  text            1052 non-null   object\n",
      " 11  year            1052 non-null   int64 \n",
      "dtypes: int64(1), object(11)\n",
      "memory usage: 106.8+ KB\n"
     ]
    }
   ],
   "source": [
    "df.info()"
   ]
  },
  {
   "cell_type": "code",
   "execution_count": 6,
   "metadata": {},
   "outputs": [
    {
     "data": {
      "text/plain": [
       "born_in            0\n",
       "category           0\n",
       "country            0\n",
       "date_of_birth      8\n",
       "date_of_death      8\n",
       "gender            12\n",
       "link               0\n",
       "name               0\n",
       "place_of_birth    41\n",
       "place_of_death     8\n",
       "text               0\n",
       "year               0\n",
       "dtype: int64"
      ]
     },
     "execution_count": 6,
     "metadata": {},
     "output_type": "execute_result"
    }
   ],
   "source": [
    "df.isna().sum()"
   ]
  },
  {
   "cell_type": "code",
   "execution_count": 8,
   "metadata": {},
   "outputs": [
    {
     "data": {
      "text/html": [
       "<div>\n",
       "<style scoped>\n",
       "    .dataframe tbody tr th:only-of-type {\n",
       "        vertical-align: middle;\n",
       "    }\n",
       "\n",
       "    .dataframe tbody tr th {\n",
       "        vertical-align: top;\n",
       "    }\n",
       "\n",
       "    .dataframe thead th {\n",
       "        text-align: right;\n",
       "    }\n",
       "</style>\n",
       "<table border=\"1\" class=\"dataframe\">\n",
       "  <thead>\n",
       "    <tr style=\"text-align: right;\">\n",
       "      <th></th>\n",
       "      <th>born_in</th>\n",
       "      <th>category</th>\n",
       "      <th>country</th>\n",
       "      <th>date_of_birth</th>\n",
       "      <th>date_of_death</th>\n",
       "      <th>gender</th>\n",
       "      <th>link</th>\n",
       "      <th>name</th>\n",
       "      <th>place_of_birth</th>\n",
       "      <th>place_of_death</th>\n",
       "      <th>text</th>\n",
       "      <th>year</th>\n",
       "    </tr>\n",
       "  </thead>\n",
       "  <tbody>\n",
       "    <tr>\n",
       "      <th>0</th>\n",
       "      <td>NaN</td>\n",
       "      <td>NaN</td>\n",
       "      <td>NaN</td>\n",
       "      <td>NaN</td>\n",
       "      <td>NaN</td>\n",
       "      <td>NaN</td>\n",
       "      <td>NaN</td>\n",
       "      <td>NaN</td>\n",
       "      <td>NaN</td>\n",
       "      <td>NaN</td>\n",
       "      <td>NaN</td>\n",
       "      <td>NaN</td>\n",
       "    </tr>\n",
       "    <tr>\n",
       "      <th>1</th>\n",
       "      <td>NaN</td>\n",
       "      <td>NaN</td>\n",
       "      <td>NaN</td>\n",
       "      <td>NaN</td>\n",
       "      <td>NaN</td>\n",
       "      <td>NaN</td>\n",
       "      <td>NaN</td>\n",
       "      <td>NaN</td>\n",
       "      <td>NaN</td>\n",
       "      <td>NaN</td>\n",
       "      <td>NaN</td>\n",
       "      <td>NaN</td>\n",
       "    </tr>\n",
       "    <tr>\n",
       "      <th>2</th>\n",
       "      <td>NaN</td>\n",
       "      <td>NaN</td>\n",
       "      <td>NaN</td>\n",
       "      <td>NaN</td>\n",
       "      <td>NaN</td>\n",
       "      <td>NaN</td>\n",
       "      <td>NaN</td>\n",
       "      <td>NaN</td>\n",
       "      <td>NaN</td>\n",
       "      <td>NaN</td>\n",
       "      <td>NaN</td>\n",
       "      <td>NaN</td>\n",
       "    </tr>\n",
       "    <tr>\n",
       "      <th>3</th>\n",
       "      <td>NaN</td>\n",
       "      <td>NaN</td>\n",
       "      <td>NaN</td>\n",
       "      <td>None</td>\n",
       "      <td>None</td>\n",
       "      <td>None</td>\n",
       "      <td>NaN</td>\n",
       "      <td>NaN</td>\n",
       "      <td>None</td>\n",
       "      <td>None</td>\n",
       "      <td>NaN</td>\n",
       "      <td>NaN</td>\n",
       "    </tr>\n",
       "    <tr>\n",
       "      <th>4</th>\n",
       "      <td>NaN</td>\n",
       "      <td>NaN</td>\n",
       "      <td>NaN</td>\n",
       "      <td>NaN</td>\n",
       "      <td>NaN</td>\n",
       "      <td>NaN</td>\n",
       "      <td>NaN</td>\n",
       "      <td>NaN</td>\n",
       "      <td>NaN</td>\n",
       "      <td>NaN</td>\n",
       "      <td>NaN</td>\n",
       "      <td>NaN</td>\n",
       "    </tr>\n",
       "    <tr>\n",
       "      <th>...</th>\n",
       "      <td>...</td>\n",
       "      <td>...</td>\n",
       "      <td>...</td>\n",
       "      <td>...</td>\n",
       "      <td>...</td>\n",
       "      <td>...</td>\n",
       "      <td>...</td>\n",
       "      <td>...</td>\n",
       "      <td>...</td>\n",
       "      <td>...</td>\n",
       "      <td>...</td>\n",
       "      <td>...</td>\n",
       "    </tr>\n",
       "    <tr>\n",
       "      <th>1047</th>\n",
       "      <td>NaN</td>\n",
       "      <td>NaN</td>\n",
       "      <td>NaN</td>\n",
       "      <td>NaN</td>\n",
       "      <td>NaN</td>\n",
       "      <td>NaN</td>\n",
       "      <td>NaN</td>\n",
       "      <td>NaN</td>\n",
       "      <td>NaN</td>\n",
       "      <td>NaN</td>\n",
       "      <td>NaN</td>\n",
       "      <td>NaN</td>\n",
       "    </tr>\n",
       "    <tr>\n",
       "      <th>1048</th>\n",
       "      <td>NaN</td>\n",
       "      <td>NaN</td>\n",
       "      <td>NaN</td>\n",
       "      <td>NaN</td>\n",
       "      <td>NaN</td>\n",
       "      <td>NaN</td>\n",
       "      <td>NaN</td>\n",
       "      <td>NaN</td>\n",
       "      <td>NaN</td>\n",
       "      <td>NaN</td>\n",
       "      <td>NaN</td>\n",
       "      <td>NaN</td>\n",
       "    </tr>\n",
       "    <tr>\n",
       "      <th>1049</th>\n",
       "      <td>NaN</td>\n",
       "      <td>NaN</td>\n",
       "      <td>NaN</td>\n",
       "      <td>NaN</td>\n",
       "      <td>NaN</td>\n",
       "      <td>NaN</td>\n",
       "      <td>NaN</td>\n",
       "      <td>NaN</td>\n",
       "      <td>NaN</td>\n",
       "      <td>NaN</td>\n",
       "      <td>NaN</td>\n",
       "      <td>NaN</td>\n",
       "    </tr>\n",
       "    <tr>\n",
       "      <th>1050</th>\n",
       "      <td>NaN</td>\n",
       "      <td>NaN</td>\n",
       "      <td>NaN</td>\n",
       "      <td>NaN</td>\n",
       "      <td>NaN</td>\n",
       "      <td>NaN</td>\n",
       "      <td>NaN</td>\n",
       "      <td>NaN</td>\n",
       "      <td>NaN</td>\n",
       "      <td>NaN</td>\n",
       "      <td>NaN</td>\n",
       "      <td>NaN</td>\n",
       "    </tr>\n",
       "    <tr>\n",
       "      <th>1051</th>\n",
       "      <td>NaN</td>\n",
       "      <td>NaN</td>\n",
       "      <td>NaN</td>\n",
       "      <td>NaN</td>\n",
       "      <td>NaN</td>\n",
       "      <td>NaN</td>\n",
       "      <td>NaN</td>\n",
       "      <td>NaN</td>\n",
       "      <td>NaN</td>\n",
       "      <td>NaN</td>\n",
       "      <td>NaN</td>\n",
       "      <td>NaN</td>\n",
       "    </tr>\n",
       "  </tbody>\n",
       "</table>\n",
       "<p>1052 rows × 12 columns</p>\n",
       "</div>"
      ],
      "text/plain": [
       "     born_in category country date_of_birth date_of_death gender link name  \\\n",
       "0        NaN      NaN     NaN           NaN           NaN    NaN  NaN  NaN   \n",
       "1        NaN      NaN     NaN           NaN           NaN    NaN  NaN  NaN   \n",
       "2        NaN      NaN     NaN           NaN           NaN    NaN  NaN  NaN   \n",
       "3        NaN      NaN     NaN          None          None   None  NaN  NaN   \n",
       "4        NaN      NaN     NaN           NaN           NaN    NaN  NaN  NaN   \n",
       "...      ...      ...     ...           ...           ...    ...  ...  ...   \n",
       "1047     NaN      NaN     NaN           NaN           NaN    NaN  NaN  NaN   \n",
       "1048     NaN      NaN     NaN           NaN           NaN    NaN  NaN  NaN   \n",
       "1049     NaN      NaN     NaN           NaN           NaN    NaN  NaN  NaN   \n",
       "1050     NaN      NaN     NaN           NaN           NaN    NaN  NaN  NaN   \n",
       "1051     NaN      NaN     NaN           NaN           NaN    NaN  NaN  NaN   \n",
       "\n",
       "     place_of_birth place_of_death text  year  \n",
       "0               NaN            NaN  NaN   NaN  \n",
       "1               NaN            NaN  NaN   NaN  \n",
       "2               NaN            NaN  NaN   NaN  \n",
       "3              None           None  NaN   NaN  \n",
       "4               NaN            NaN  NaN   NaN  \n",
       "...             ...            ...  ...   ...  \n",
       "1047            NaN            NaN  NaN   NaN  \n",
       "1048            NaN            NaN  NaN   NaN  \n",
       "1049            NaN            NaN  NaN   NaN  \n",
       "1050            NaN            NaN  NaN   NaN  \n",
       "1051            NaN            NaN  NaN   NaN  \n",
       "\n",
       "[1052 rows x 12 columns]"
      ]
     },
     "execution_count": 8,
     "metadata": {},
     "output_type": "execute_result"
    }
   ],
   "source": [
    "df[df.isna()]"
   ]
  },
  {
   "cell_type": "markdown",
   "metadata": {},
   "source": [
    "## 3. Use the .duplicated() method to check whether there are any duplicate rows. Print False if there are no duplicate rows, otherwise print True.\n"
   ]
  },
  {
   "cell_type": "code",
   "execution_count": 11,
   "metadata": {},
   "outputs": [
    {
     "name": "stdout",
     "output_type": "stream",
     "text": [
      "True\n"
     ]
    }
   ],
   "source": [
    "duplicated_rows = df[df.duplicated()]\n",
    "if len(duplicated_rows) > 0:\n",
    "    print(True)\n",
    "else:\n",
    "    print(False)"
   ]
  },
  {
   "cell_type": "markdown",
   "metadata": {},
   "source": [
    "## 4. Drop all the rows where the gender column does not contain any values. Hint: use the subset parameter of the .dropna() method in pandas.\n"
   ]
  },
  {
   "cell_type": "code",
   "execution_count": 14,
   "metadata": {},
   "outputs": [
    {
     "name": "stdout",
     "output_type": "stream",
     "text": [
      "['male' None 'female']\n"
     ]
    }
   ],
   "source": [
    "print(df.gender.unique())\n"
   ]
  },
  {
   "cell_type": "code",
   "execution_count": 16,
   "metadata": {},
   "outputs": [
    {
     "name": "stdout",
     "output_type": "stream",
     "text": [
      "['male' 'female']\n"
     ]
    }
   ],
   "source": [
    "df2 = df.dropna(how='all', subset=['gender'])\n",
    "print(df2.gender.unique())"
   ]
  },
  {
   "cell_type": "markdown",
   "metadata": {},
   "source": [
    "## 5. Re-index the DataFrame so that the index contains consecutive numbers. Do not forget to remove the old index column.\n"
   ]
  },
  {
   "cell_type": "code",
   "execution_count": 24,
   "metadata": {},
   "outputs": [
    {
     "data": {
      "text/plain": [
       "1040"
      ]
     },
     "execution_count": 24,
     "metadata": {},
     "output_type": "execute_result"
    }
   ],
   "source": [
    "df3 = df2.reset_index(drop=True)"
   ]
  },
  {
   "cell_type": "code",
   "execution_count": 25,
   "metadata": {},
   "outputs": [
    {
     "data": {
      "text/plain": [
       "{'country': {0: 'Argentina',\n",
       "  1: '',\n",
       "  2: '',\n",
       "  4: 'Belgium',\n",
       "  5: 'Belgium',\n",
       "  6: 'Belgium',\n",
       "  7: 'Belgium',\n",
       "  8: 'Belgium',\n",
       "  9: 'Belgium',\n",
       "  10: 'Belgium',\n",
       "  11: 'Belgium',\n",
       "  12: 'Belgium',\n",
       "  13: 'Belgium',\n",
       "  14: '',\n",
       "  15: '',\n",
       "  16: '',\n",
       "  17: 'Denmark',\n",
       "  18: 'Denmark',\n",
       "  19: 'Denmark',\n",
       "  20: 'Denmark'},\n",
       " 'name': {0: 'César Milstein',\n",
       "  1: 'Ivo Andric *',\n",
       "  2: 'Vladimir Prelog *',\n",
       "  4: 'Auguste Beernaert',\n",
       "  5: 'Maurice Maeterlinck',\n",
       "  6: 'Henri La Fontaine',\n",
       "  7: 'Jules Bordet',\n",
       "  8: 'Corneille Heymans',\n",
       "  9: 'Georges Pire',\n",
       "  10: 'Albert Claude',\n",
       "  11: 'Christian de Duve',\n",
       "  12: 'Ilya Prigogine',\n",
       "  13: 'François Englert',\n",
       "  14: 'Simon Kuznets *',\n",
       "  15: 'Menachem Begin *',\n",
       "  16: 'Shimon Peres *',\n",
       "  17: 'Karl Adolph Gjellerup',\n",
       "  18: 'August Krogh',\n",
       "  19: 'Niels Bohr',\n",
       "  20: 'Johannes Andreas Grib Fibiger'}}"
      ]
     },
     "execution_count": 25,
     "metadata": {},
     "output_type": "execute_result"
    }
   ],
   "source": [
    "df3[['country', 'name']].head(20).to_dict()"
   ]
  },
  {
   "cell_type": "markdown",
   "metadata": {},
   "source": [
    "# Stage 2/6: Correct the birthplaces\n",
    "Some values in the born_in column are missing. Correct them with the place_of_birth column values."
   ]
  },
  {
   "cell_type": "markdown",
   "metadata": {},
   "source": [
    "## 1. Extract the country names from the place_of_birth column. Typically, this column contains the name of the city and, sometimes, state and country of birth. The values are separated by a comma. To extract the country, split each column value by comma (if it is present) and take the last value. Apply .strip() to the Python string to remove the excessive white spaces. If no comma is present in the column value, replace the value with None;\n"
   ]
  },
  {
   "cell_type": "code",
   "execution_count": 28,
   "metadata": {},
   "outputs": [
    {
     "data": {
      "text/html": [
       "<div>\n",
       "<style scoped>\n",
       "    .dataframe tbody tr th:only-of-type {\n",
       "        vertical-align: middle;\n",
       "    }\n",
       "\n",
       "    .dataframe tbody tr th {\n",
       "        vertical-align: top;\n",
       "    }\n",
       "\n",
       "    .dataframe thead th {\n",
       "        text-align: right;\n",
       "    }\n",
       "</style>\n",
       "<table border=\"1\" class=\"dataframe\">\n",
       "  <thead>\n",
       "    <tr style=\"text-align: right;\">\n",
       "      <th></th>\n",
       "      <th>born_in</th>\n",
       "      <th>place_of_birth</th>\n",
       "    </tr>\n",
       "  </thead>\n",
       "  <tbody>\n",
       "    <tr>\n",
       "      <th>0</th>\n",
       "      <td></td>\n",
       "      <td>Bahía Blanca ,  Argentina</td>\n",
       "    </tr>\n",
       "    <tr>\n",
       "      <th>1</th>\n",
       "      <td>Bosnia and Herzegovina</td>\n",
       "      <td>Dolac (village near Travnik), Bosnia and Herze...</td>\n",
       "    </tr>\n",
       "    <tr>\n",
       "      <th>2</th>\n",
       "      <td>Bosnia and Herzegovina</td>\n",
       "      <td>Sarajevo ,  Bosnia and Herzegovina</td>\n",
       "    </tr>\n",
       "    <tr>\n",
       "      <th>4</th>\n",
       "      <td></td>\n",
       "      <td>Ostend ,  Belgium</td>\n",
       "    </tr>\n",
       "    <tr>\n",
       "      <th>5</th>\n",
       "      <td></td>\n",
       "      <td>Ghent ,  Belgium</td>\n",
       "    </tr>\n",
       "  </tbody>\n",
       "</table>\n",
       "</div>"
      ],
      "text/plain": [
       "                  born_in                                     place_of_birth\n",
       "0                                                  Bahía Blanca ,  Argentina\n",
       "1  Bosnia and Herzegovina  Dolac (village near Travnik), Bosnia and Herze...\n",
       "2  Bosnia and Herzegovina                 Sarajevo ,  Bosnia and Herzegovina\n",
       "4                                                          Ostend ,  Belgium\n",
       "5                                                           Ghent ,  Belgium"
      ]
     },
     "execution_count": 28,
     "metadata": {},
     "output_type": "execute_result"
    }
   ],
   "source": [
    "df = df3.copy()\n",
    "df[['born_in', 'place_of_birth']].head()"
   ]
  },
  {
   "cell_type": "code",
   "execution_count": 34,
   "metadata": {},
   "outputs": [
    {
     "data": {
      "text/html": [
       "<div>\n",
       "<style scoped>\n",
       "    .dataframe tbody tr th:only-of-type {\n",
       "        vertical-align: middle;\n",
       "    }\n",
       "\n",
       "    .dataframe tbody tr th {\n",
       "        vertical-align: top;\n",
       "    }\n",
       "\n",
       "    .dataframe thead th {\n",
       "        text-align: right;\n",
       "    }\n",
       "</style>\n",
       "<table border=\"1\" class=\"dataframe\">\n",
       "  <thead>\n",
       "    <tr style=\"text-align: right;\">\n",
       "      <th></th>\n",
       "      <th>born_in</th>\n",
       "      <th>place_of_birth</th>\n",
       "      <th>place_of_birth_clean</th>\n",
       "    </tr>\n",
       "  </thead>\n",
       "  <tbody>\n",
       "    <tr>\n",
       "      <th>0</th>\n",
       "      <td></td>\n",
       "      <td>Bahía Blanca ,  Argentina</td>\n",
       "      <td>Argentina</td>\n",
       "    </tr>\n",
       "    <tr>\n",
       "      <th>1</th>\n",
       "      <td>Bosnia and Herzegovina</td>\n",
       "      <td>Dolac (village near Travnik), Bosnia and Herze...</td>\n",
       "      <td>Bosnia and Herzegovina</td>\n",
       "    </tr>\n",
       "    <tr>\n",
       "      <th>2</th>\n",
       "      <td>Bosnia and Herzegovina</td>\n",
       "      <td>Sarajevo ,  Bosnia and Herzegovina</td>\n",
       "      <td>Bosnia and Herzegovina</td>\n",
       "    </tr>\n",
       "    <tr>\n",
       "      <th>4</th>\n",
       "      <td></td>\n",
       "      <td>Ostend ,  Belgium</td>\n",
       "      <td>Belgium</td>\n",
       "    </tr>\n",
       "    <tr>\n",
       "      <th>5</th>\n",
       "      <td></td>\n",
       "      <td>Ghent ,  Belgium</td>\n",
       "      <td>Belgium</td>\n",
       "    </tr>\n",
       "  </tbody>\n",
       "</table>\n",
       "</div>"
      ],
      "text/plain": [
       "                  born_in                                     place_of_birth  \\\n",
       "0                                                  Bahía Blanca ,  Argentina   \n",
       "1  Bosnia and Herzegovina  Dolac (village near Travnik), Bosnia and Herze...   \n",
       "2  Bosnia and Herzegovina                 Sarajevo ,  Bosnia and Herzegovina   \n",
       "4                                                          Ostend ,  Belgium   \n",
       "5                                                           Ghent ,  Belgium   \n",
       "\n",
       "     place_of_birth_clean  \n",
       "0               Argentina  \n",
       "1  Bosnia and Herzegovina  \n",
       "2  Bosnia and Herzegovina  \n",
       "4                 Belgium  \n",
       "5                 Belgium  "
      ]
     },
     "execution_count": 34,
     "metadata": {},
     "output_type": "execute_result"
    }
   ],
   "source": [
    "# if place_of_birth has a comma, then split each value by comma and take the last value\n",
    "df['place_of_birth_clean'] = df['place_of_birth'].apply(lambda x: x.split(',')[-1].strip() if isinstance(x, str) and ',' in x else None)\n",
    "df[['born_in', 'place_of_birth', 'place_of_birth_clean']].head()\n"
   ]
  },
  {
   "cell_type": "markdown",
   "metadata": {},
   "source": [
    "## 2. Fill the born_in empty values with the new values of the place_of_birth column. If the born_in column still contains empty values, drop the respective rows. Reset the DataFrame index;\n"
   ]
  },
  {
   "cell_type": "code",
   "execution_count": 39,
   "metadata": {},
   "outputs": [
    {
     "data": {
      "text/html": [
       "<div>\n",
       "<style scoped>\n",
       "    .dataframe tbody tr th:only-of-type {\n",
       "        vertical-align: middle;\n",
       "    }\n",
       "\n",
       "    .dataframe tbody tr th {\n",
       "        vertical-align: top;\n",
       "    }\n",
       "\n",
       "    .dataframe thead th {\n",
       "        text-align: right;\n",
       "    }\n",
       "</style>\n",
       "<table border=\"1\" class=\"dataframe\">\n",
       "  <thead>\n",
       "    <tr style=\"text-align: right;\">\n",
       "      <th></th>\n",
       "      <th>born_in</th>\n",
       "      <th>place_of_birth</th>\n",
       "      <th>place_of_birth_clean</th>\n",
       "    </tr>\n",
       "  </thead>\n",
       "  <tbody>\n",
       "    <tr>\n",
       "      <th>0</th>\n",
       "      <td>Argentina</td>\n",
       "      <td>Bahía Blanca ,  Argentina</td>\n",
       "      <td>Argentina</td>\n",
       "    </tr>\n",
       "    <tr>\n",
       "      <th>1</th>\n",
       "      <td>Bosnia and Herzegovina</td>\n",
       "      <td>Dolac (village near Travnik), Bosnia and Herze...</td>\n",
       "      <td>Bosnia and Herzegovina</td>\n",
       "    </tr>\n",
       "    <tr>\n",
       "      <th>2</th>\n",
       "      <td>Bosnia and Herzegovina</td>\n",
       "      <td>Sarajevo ,  Bosnia and Herzegovina</td>\n",
       "      <td>Bosnia and Herzegovina</td>\n",
       "    </tr>\n",
       "    <tr>\n",
       "      <th>4</th>\n",
       "      <td>Belgium</td>\n",
       "      <td>Ostend ,  Belgium</td>\n",
       "      <td>Belgium</td>\n",
       "    </tr>\n",
       "    <tr>\n",
       "      <th>5</th>\n",
       "      <td>Belgium</td>\n",
       "      <td>Ghent ,  Belgium</td>\n",
       "      <td>Belgium</td>\n",
       "    </tr>\n",
       "  </tbody>\n",
       "</table>\n",
       "</div>"
      ],
      "text/plain": [
       "                  born_in                                     place_of_birth  \\\n",
       "0               Argentina                          Bahía Blanca ,  Argentina   \n",
       "1  Bosnia and Herzegovina  Dolac (village near Travnik), Bosnia and Herze...   \n",
       "2  Bosnia and Herzegovina                 Sarajevo ,  Bosnia and Herzegovina   \n",
       "4                 Belgium                                  Ostend ,  Belgium   \n",
       "5                 Belgium                                   Ghent ,  Belgium   \n",
       "\n",
       "     place_of_birth_clean  \n",
       "0               Argentina  \n",
       "1  Bosnia and Herzegovina  \n",
       "2  Bosnia and Herzegovina  \n",
       "4                 Belgium  \n",
       "5                 Belgium  "
      ]
     },
     "execution_count": 39,
     "metadata": {},
     "output_type": "execute_result"
    }
   ],
   "source": [
    "df['born_in'] = df['born_in'].replace('', None)\n",
    "df['born_in'] = df['born_in'].fillna(df['place_of_birth_clean'])\n",
    "df[['born_in', 'place_of_birth', 'place_of_birth_clean']].head()"
   ]
  },
  {
   "cell_type": "code",
   "execution_count": 48,
   "metadata": {},
   "outputs": [
    {
     "name": "stdout",
     "output_type": "stream",
     "text": [
      "0\n",
      "0\n"
     ]
    }
   ],
   "source": [
    "print(len(df[df['born_in'].isna()]))\n",
    "df = df.dropna(subset=['born_in']).reset_index(drop=True)\n",
    "print(len(df[df['born_in'].isna()]))\n"
   ]
  },
  {
   "cell_type": "markdown",
   "metadata": {},
   "source": [
    "## 3. Modify the names of countries — replace US, United States, and U.S. with USA, and United Kingdom with UK.\n"
   ]
  },
  {
   "cell_type": "code",
   "execution_count": 51,
   "metadata": {},
   "outputs": [],
   "source": [
    "# sorted(df.country.unique())"
   ]
  },
  {
   "cell_type": "code",
   "execution_count": 60,
   "metadata": {},
   "outputs": [],
   "source": [
    "replacement_dict = {\n",
    "        'US': 'USA',\n",
    "        'United States': 'USA',\n",
    "        'U.S.': 'USA',\n",
    "        'United Kingdom': 'UK'\n",
    "    }\n",
    "df['born_in'] = df['born_in'].replace(replacement_dict)"
   ]
  },
  {
   "cell_type": "code",
   "execution_count": 62,
   "metadata": {},
   "outputs": [],
   "source": [
    "# output a list of born_in column values.\n",
    "# sorted(list(df['born_in'].unique()))"
   ]
  },
  {
   "cell_type": "markdown",
   "metadata": {},
   "source": [
    "# Stage 3/6: "
   ]
  },
  {
   "cell_type": "code",
   "execution_count": null,
   "metadata": {},
   "outputs": [],
   "source": []
  },
  {
   "cell_type": "code",
   "execution_count": null,
   "metadata": {},
   "outputs": [],
   "source": []
  },
  {
   "cell_type": "code",
   "execution_count": null,
   "metadata": {},
   "outputs": [],
   "source": []
  },
  {
   "cell_type": "markdown",
   "metadata": {},
   "source": []
  }
 ],
 "metadata": {
  "kernelspec": {
   "display_name": "Python 3",
   "language": "python",
   "name": "python3"
  },
  "language_info": {
   "codemirror_mode": {
    "name": "ipython",
    "version": 3
   },
   "file_extension": ".py",
   "mimetype": "text/x-python",
   "name": "python",
   "nbconvert_exporter": "python",
   "pygments_lexer": "ipython3",
   "version": "3.12.7"
  }
 },
 "nbformat": 4,
 "nbformat_minor": 2
}
