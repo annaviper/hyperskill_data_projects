{
 "cells": [
  {
   "cell_type": "markdown",
   "metadata": {
    "vscode": {
     "languageId": "plaintext"
    }
   },
   "source": [
    "# Stage 1/4\n",
    "- Identify printers in your inventory that are priced over $200;\n",
    "- Find the model number, type, and price of the Printer. The order of the columns matters.\n",
    "\n",
    "<img src=\"db.png\" width=\"1000\">"
   ]
  },
  {
   "cell_type": "code",
   "execution_count": null,
   "metadata": {},
   "outputs": [],
   "source": [
    "\"\"\"\n",
    "SELECT model, type, price FROM Printer\n",
    "WHERE price > 200\n",
    "ORDER BY price DESC\n",
    "\"\"\""
   ]
  },
  {
   "cell_type": "markdown",
   "metadata": {},
   "source": [
    "# Stage 2/4\n",
    "- Obtain a list of manufacturers (maker) that produce laptops with a hard disk (hd) space of at least 1000 GB, along with the speed (speed), the price (price), and the model (model) of those laptops;\n",
    "- Find the maker and model of the laptop from the table Product, and the hd, speed, and price from the table Laptop. Order output first by hd, then by descending order speed, and then by price."
   ]
  },
  {
   "cell_type": "code",
   "execution_count": null,
   "metadata": {},
   "outputs": [],
   "source": [
    "\"\"\"\n",
    "SELECT p.maker, l.hd, l.speed, l.price, p.model FROM Product p\n",
    "JOIN Laptop l ON p.model = l.model\n",
    "WHERE l.hd >= 1000\n",
    "ORDER BY l.hd, l.speed DESC, l.price\n",
    "\"\"\""
   ]
  },
  {
   "cell_type": "markdown",
   "metadata": {},
   "source": [
    "# Stage 3/4: Uniques\n",
    "- Using the Product table, determine the number of manufacturers producing one product model;\n",
    "- Output the Number of unique manufacturers from the Product table."
   ]
  },
  {
   "cell_type": "code",
   "execution_count": null,
   "metadata": {},
   "outputs": [],
   "source": [
    "\"\"\"\n",
    "SELECT COUNT(maker) as number_of_unique_makers FROM (\n",
    "    SELECT p.maker, count(p.model) as num_models FROM Product p\n",
    "    GROUP BY p.maker\n",
    "    HAVING COUNT(p.model) = 1\n",
    ") AS subquery;\n",
    "\"\"\""
   ]
  },
  {
   "cell_type": "markdown",
   "metadata": {},
   "source": [
    "# Stage 4/4\n",
    "- Find the maker that produces computer models (this includes Laptops and PCs) with the lowest speed;\n",
    "- Output the maker and model information from the Product table, along with the speed and price details from either the Laptop or PC table."
   ]
  },
  {
   "cell_type": "code",
   "execution_count": null,
   "metadata": {},
   "outputs": [],
   "source": [
    "\"\"\"\n",
    "WITH pc_laptop AS (\n",
    "    SELECT l.model, l.speed, l.price FROM Laptop l\n",
    "    UNION\n",
    "    SELECT p.model, p.speed, p.price FROM PC p\n",
    "),\n",
    "\n",
    "min_speed AS (\n",
    "    SELECT MIN(speed) AS min_speed \n",
    "    FROM pc_laptop\n",
    ")\n",
    "\n",
    "select\n",
    "    p.maker,\n",
    "    pl.model,\n",
    "    pl.speed,\n",
    "    pl.price\n",
    "from\n",
    "    Product p\n",
    "join\n",
    "    pc_laptop pl ON pl.model = p.model\n",
    "join\n",
    "    min_speed ms ON  pl.speed = ms.min_speed\n",
    "\"\"\""
   ]
  },
  {
   "cell_type": "markdown",
   "metadata": {},
   "source": []
  }
 ],
 "metadata": {
  "kernelspec": {
   "display_name": "Python 3",
   "language": "python",
   "name": "python3"
  },
  "language_info": {
   "codemirror_mode": {
    "name": "ipython",
    "version": 3
   },
   "file_extension": ".py",
   "mimetype": "text/x-python",
   "name": "python",
   "nbconvert_exporter": "python",
   "pygments_lexer": "ipython3",
   "version": "3.12.7"
  }
 },
 "nbformat": 4,
 "nbformat_minor": 2
}
